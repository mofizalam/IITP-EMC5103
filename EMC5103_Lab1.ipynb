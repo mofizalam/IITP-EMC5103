{
  "nbformat": 4,
  "nbformat_minor": 0,
  "metadata": {
    "colab": {
      "provenance": [],
      "authorship_tag": "ABX9TyPDBaOom1rWhSNtwQJDfwOQ",
      "include_colab_link": true
    },
    "kernelspec": {
      "name": "python3",
      "display_name": "Python 3"
    },
    "language_info": {
      "name": "python"
    }
  },
  "cells": [
    {
      "cell_type": "markdown",
      "metadata": {
        "id": "view-in-github",
        "colab_type": "text"
      },
      "source": [
        "<a href=\"https://colab.research.google.com/github/mofizalam/IITP-EMC5103/blob/main/EMC5103_Lab1.ipynb\" target=\"_parent\"><img src=\"https://colab.research.google.com/assets/colab-badge.svg\" alt=\"Open In Colab\"/></a>"
      ]
    },
    {
      "cell_type": "code",
      "execution_count": null,
      "metadata": {
        "id": "D-vEkJS2yO-y"
      },
      "outputs": [],
      "source": []
    },
    {
      "cell_type": "code",
      "source": [
        "# add a code for list declaration and append after a certain element\n",
        "mylist = [2,3,\"mtech\"]\n",
        "print(mylist)\n",
        "mylist.insert(0,\"mofiz\")\n",
        "print(mylist)\n",
        "mylist.remove(\"mofiz\")\n",
        "print(mylist)\n",
        "\n",
        "del mylist[0]\n",
        "\n",
        "print(mylist)\n",
        "\n",
        "mylist.clear()\n",
        "print(mylist)\n",
        "\n"
      ],
      "metadata": {
        "colab": {
          "base_uri": "https://localhost:8080/"
        },
        "id": "c6gYS9qHyZpA",
        "outputId": "36247b83-3882-45cb-d259-ad503a2781fb"
      },
      "execution_count": 18,
      "outputs": [
        {
          "output_type": "stream",
          "name": "stdout",
          "text": [
            "[2, 3, 'mtech']\n",
            "['mofiz', 2, 3, 'mtech']\n",
            "[2, 3, 'mtech']\n",
            "[3, 'mtech']\n",
            "[]\n"
          ]
        }
      ]
    },
    {
      "cell_type": "code",
      "source": [
        "import this"
      ],
      "metadata": {
        "colab": {
          "base_uri": "https://localhost:8080/"
        },
        "id": "LpEAEEAhzC1H",
        "outputId": "4afb6072-aab9-4f8d-9b97-3f78032761c6"
      },
      "execution_count": 4,
      "outputs": [
        {
          "output_type": "stream",
          "name": "stdout",
          "text": [
            "The Zen of Python, by Tim Peters\n",
            "\n",
            "Beautiful is better than ugly.\n",
            "Explicit is better than implicit.\n",
            "Simple is better than complex.\n",
            "Complex is better than complicated.\n",
            "Flat is better than nested.\n",
            "Sparse is better than dense.\n",
            "Readability counts.\n",
            "Special cases aren't special enough to break the rules.\n",
            "Although practicality beats purity.\n",
            "Errors should never pass silently.\n",
            "Unless explicitly silenced.\n",
            "In the face of ambiguity, refuse the temptation to guess.\n",
            "There should be one-- and preferably only one --obvious way to do it.\n",
            "Although that way may not be obvious at first unless you're Dutch.\n",
            "Now is better than never.\n",
            "Although never is often better than *right* now.\n",
            "If the implementation is hard to explain, it's a bad idea.\n",
            "If the implementation is easy to explain, it may be a good idea.\n",
            "Namespaces are one honking great idea -- let's do more of those!\n"
          ]
        }
      ]
    },
    {
      "cell_type": "code",
      "source": [
        "#to take input from the user\n",
        "int1 = int(input(\"enter first value \"))\n",
        "int2 = int(input(\"enter second value \"))\n",
        "\n",
        "print(f\"sum of the two number is {int1 + int2}\")\n",
        "print(f\"diff of the two number is {int1 - int2}\")\n",
        "print(f\"Multiplication of the two number is {int1 * int2}\")\n",
        "print(f\"division of the two number is {int1 / int2}\")\n",
        "print(f\"Modulus of the two number is {int1 % int2}\")\n",
        "\n"
      ],
      "metadata": {
        "colab": {
          "base_uri": "https://localhost:8080/"
        },
        "id": "-X1HCHTFzk3X",
        "outputId": "54b7f46f-6a6a-4af3-bf47-74e4c1b50e90"
      },
      "execution_count": 22,
      "outputs": [
        {
          "output_type": "stream",
          "name": "stdout",
          "text": [
            "enter first value 20\n",
            "enter second value 4\n",
            "sum of the two number is 24\n",
            "diff of the two number is 16\n",
            "Multiplication of the two number is 80\n",
            "division of the two number is 5.0\n",
            "Modulus of the two number is 0\n"
          ]
        }
      ]
    },
    {
      "cell_type": "markdown",
      "source": [
        "Sorting List\n"
      ],
      "metadata": {
        "id": "FF8EaNUr4g97"
      }
    },
    {
      "cell_type": "code",
      "source": [
        "mylist = [2,24,24,12,67,44,33,11]\n",
        "\n",
        "mylist.sort()\n",
        "\n",
        "print(mylist)\n",
        "\n",
        "mylist.sort(reverse=True)\n",
        "print(mylist)\n",
        "\n"
      ],
      "metadata": {
        "colab": {
          "base_uri": "https://localhost:8080/"
        },
        "id": "HFnVtarS4jOE",
        "outputId": "f0bfd69b-3c0b-4143-9022-f46bdc4ee382"
      },
      "execution_count": 30,
      "outputs": [
        {
          "output_type": "stream",
          "name": "stdout",
          "text": [
            "[2, 11, 12, 24, 24, 33, 44, 67]\n",
            "[67, 44, 33, 24, 24, 12, 11, 2]\n"
          ]
        }
      ]
    },
    {
      "cell_type": "code",
      "source": [
        "from functools import update_wrapper\n",
        "astring1 = \"Hello\"\n",
        "astring2 ='Student'\n",
        "\n",
        "print(astring1 + astring2)\n",
        "\n",
        "print(astring1 * 3  )\n",
        "\n",
        "print(astring2[3:7])\n",
        "\n",
        "print(astring2.index('d'))\n",
        "\n",
        "print(astring1.count('a'))\n",
        "\n",
        "print(astring2.upper())\n",
        "print(astring2.lower())\n",
        "\n",
        "print(astring2[::-1])\n",
        "\n",
        "\n",
        "str2 = 'Python'\n",
        "##print(str2.index('d'))\n",
        "\n",
        "\n",
        "\n"
      ],
      "metadata": {
        "colab": {
          "base_uri": "https://localhost:8080/"
        },
        "id": "E0gRfZfp71te",
        "outputId": "06a8f0b1-1fc4-4860-d88f-72d6fca6f950"
      },
      "execution_count": 37,
      "outputs": [
        {
          "output_type": "stream",
          "name": "stdout",
          "text": [
            "HelloStudent\n",
            "HelloHelloHello\n",
            "dent\n",
            "3\n",
            "0\n",
            "STUDENT\n",
            "student\n",
            "tnedutS\n"
          ]
        }
      ]
    },
    {
      "cell_type": "markdown",
      "source": [
        "Statments"
      ],
      "metadata": {
        "id": "TUvw5YQ6_XSK"
      }
    },
    {
      "cell_type": "code",
      "source": [
        "a = input(\"Enter your choice\")\n",
        "a = int(a)\n",
        "\n",
        "if a%2 == 0:\n",
        "  print(f\"{a} is Even\")\n",
        "else:\n",
        "  print(f\"{a} is Odd\")\n",
        "\n"
      ],
      "metadata": {
        "colab": {
          "base_uri": "https://localhost:8080/"
        },
        "id": "qd9K-UwK_a3L",
        "outputId": "12aeef15-1c7a-48bf-a0ee-2cb8e1e280b7"
      },
      "execution_count": 40,
      "outputs": [
        {
          "output_type": "stream",
          "name": "stdout",
          "text": [
            "Enter your choice1\n",
            "1 is Odd\n"
          ]
        }
      ]
    },
    {
      "cell_type": "code",
      "source": [
        "for i in range(1,11):\n",
        "  print(i)"
      ],
      "metadata": {
        "colab": {
          "base_uri": "https://localhost:8080/"
        },
        "id": "jOmBwpV5AZIv",
        "outputId": "053cdd4d-442b-4c3b-d7ef-b97b52fab35f"
      },
      "execution_count": 43,
      "outputs": [
        {
          "output_type": "stream",
          "name": "stdout",
          "text": [
            "1\n",
            "2\n",
            "3\n",
            "4\n",
            "5\n",
            "6\n",
            "7\n",
            "8\n",
            "9\n",
            "10\n"
          ]
        }
      ]
    },
    {
      "cell_type": "markdown",
      "source": [
        "Defining function"
      ],
      "metadata": {
        "id": "1IVMVRe7B_iO"
      }
    },
    {
      "cell_type": "code",
      "source": [
        "def sum_two_num(a,b):\n",
        "  sum = a + b\n",
        "  return sum\n",
        "\n",
        "print(sum_two_num(2,3))\n"
      ],
      "metadata": {
        "colab": {
          "base_uri": "https://localhost:8080/"
        },
        "id": "H6ISz_JtAm4k",
        "outputId": "415b5466-6017-4e5d-a6ff-4388c7476197"
      },
      "execution_count": 45,
      "outputs": [
        {
          "output_type": "stream",
          "name": "stdout",
          "text": [
            "5\n"
          ]
        }
      ]
    },
    {
      "cell_type": "code",
      "source": [],
      "metadata": {
        "id": "OHJD6CLeBKRB"
      },
      "execution_count": null,
      "outputs": []
    },
    {
      "cell_type": "code",
      "source": [
        "print(sum_two_num(2,3))"
      ],
      "metadata": {
        "colab": {
          "base_uri": "https://localhost:8080/"
        },
        "id": "dTSAbqfVBBHM",
        "outputId": "0fd4614e-7a97-45f4-a07c-baffa3f3e856"
      },
      "execution_count": 46,
      "outputs": [
        {
          "output_type": "stream",
          "name": "stdout",
          "text": [
            "5\n"
          ]
        }
      ]
    }
  ]
}